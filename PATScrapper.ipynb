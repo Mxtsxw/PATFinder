{
  "cells": [
    {
      "cell_type": "markdown",
      "metadata": {
        "id": "view-in-github",
        "colab_type": "text"
      },
      "source": [
        "<a href=\"https://colab.research.google.com/github/Mxtsxw/PATFinder/blob/main/PATScrapper.ipynb\" target=\"_parent\"><img src=\"https://colab.research.google.com/assets/colab-badge.svg\" alt=\"Open In Colab\"/></a>"
      ]
    },
    {
      "cell_type": "code",
      "execution_count": null,
      "metadata": {
        "id": "g-XJRxy2flZw"
      },
      "outputs": [],
      "source": [
        "import requests\n",
        "from bs4 import BeautifulSoup\n",
        "from urllib.parse import quote\n",
        "from googlesearch import search\n",
        "import pandas as pd\n",
        "import datetime\n",
        "\n",
        "# URL de la page à analyser\n",
        "url = \"https://france-pat.fr/liste-des-pats/\""
      ]
    },
    {
      "cell_type": "code",
      "execution_count": null,
      "metadata": {
        "id": "KOc-PTyfhH9h"
      },
      "outputs": [],
      "source": [
        "def extract_PAT_links(url = \"https://france-pat.fr/liste-des-pats/\"):\n",
        "  response = requests.get(url)\n",
        "  # Vérifier si la requête a réussi\n",
        "  if response.status_code == 200:\n",
        "    soup = BeautifulSoup(response.text, 'html.parser')\n",
        "    liste = soup.find(class_=\"search-list-container mt-2\")\n",
        "    liste = liste.find(class_=\"grid\").find_all(class_=\"col-span-1\")\n",
        "    titles = [l.find(class_=\"block-list-pat\").find(\"h4\").get_text() for l in liste]\n",
        "    return titles"
      ]
    },
    {
      "cell_type": "code",
      "execution_count": null,
      "metadata": {
        "id": "E3ynhc2-pkKl"
      },
      "outputs": [],
      "source": [
        "def get_links_from_search_results(query, stop=5):\n",
        "  search_url = f\"https://www.google.com/search?q={query}\"\n",
        "\n",
        "  return [res for res in search(search_url, lang=\"fr\", stop=4, safe=None)]"
      ]
    },
    {
      "cell_type": "code",
      "execution_count": null,
      "metadata": {
        "id": "s22xUBFylCKp"
      },
      "outputs": [],
      "source": [
        "def contains_keywords(url, keyword):\n",
        "  try:\n",
        "    response = requests.get(url)\n",
        "    if response.status_code == 200:\n",
        "        soup = BeautifulSoup(response.text, 'html.parser')\n",
        "        keyword_lower = [word.lower() for word in keyword]\n",
        "        text_elements = soup.find_all(string=True)\n",
        "        for element in text_elements:\n",
        "            words = element.strip().lower().split()\n",
        "            if any(word in keyword_lower for word in words):\n",
        "                return True\n",
        "        return False\n",
        "  except:\n",
        "    print(f\"Failed to retieve {url}\")\n",
        "    return False"
      ]
    },
    {
      "cell_type": "code",
      "source": [
        "# Initialization\n",
        "# keywords_veg = [\"végétal\", \"végétale\", \"végétales\", \"végétarien\", \"végétariens\", \"végétariennes\"]\n",
        "keywords = [\"légumineuse\", \"légumineuses\"]"
      ],
      "metadata": {
        "id": "gBtRI9P7gDTo"
      },
      "execution_count": null,
      "outputs": []
    },
    {
      "cell_type": "code",
      "execution_count": null,
      "metadata": {
        "colab": {
          "background_save": true
        },
        "id": "UeAX6wLW4UuD"
      },
      "outputs": [],
      "source": [
        "# Step 1: Retrieve all PATs\n",
        "PATs = extract_PAT_links()\n",
        "res = []\n",
        "\n",
        "# Step 2: Retrieve first results\n",
        "for i in range(len(PATs[:100])):\n",
        "    pat = PATs[i]\n",
        "    entry = []\n",
        "    links = get_links_from_search_results(pat)\n",
        "    contained_links = []\n",
        "    keyword_found = False\n",
        "    for link in links:\n",
        "        if contains_keywords(link, keywords):\n",
        "            contained_links.append(link)\n",
        "            keyword_found = True\n",
        "    entry.append(pat)  # Titre du PAT\n",
        "    entry.append(pat)  # Recherche effectuée\n",
        "    entry.append(len(links))  # Nombre de liens obtenus\n",
        "    entry.append(links)  # Liens obtenus\n",
        "    entry.append(\", \".join(keywords))  # Mots clés recherchés as string\n",
        "    entry.append(\", \".join(contained_links))  # Liens contenant mots clés as string\n",
        "    entry.append(keyword_found)  # True or False indicating keyword found\n",
        "    res.append(entry)\n",
        "    print(f\"{i+1} {pat} : {keyword_found}\")\n",
        "\n",
        "for entry in res:\n",
        "    print(entry)\n",
        "\n",
        "# Convert res list to DataFrame\n",
        "df = pd.DataFrame(res, columns=[\"Titre du PAT\", \"Recherche effectuée\", \"Nb de liens obtenus\", \"Liens obtenus\", \"Mots clé recherché\", \"Mot clé trouvé\", \"Keyword Found\"])\n",
        "\n",
        "# Get the current timestamp\n",
        "timestamp = datetime.datetime.now().strftime(\"%Y%m%d_%H%M%S\")\n",
        "\n",
        "# File names with timestamp\n",
        "excel_file = f\"data_{timestamp}.xlsx\"\n",
        "csv_file = f\"data_{timestamp}.csv\"\n",
        "\n",
        "# Save DataFrame to Excel\n",
        "df.to_excel(excel_file, index=False)\n",
        "\n",
        "# Save DataFrame to CSV\n",
        "df.to_csv(csv_file, index=False)\n",
        "\n",
        "print(\"Data saved successfully.\")"
      ]
    },
    {
      "cell_type": "code",
      "execution_count": null,
      "metadata": {
        "id": "as98GU_PM87D"
      },
      "outputs": [],
      "source": [
        "# Get the current timestamp\n",
        "timestamp = datetime.datetime.now().strftime(\"%Y%m%d_%H%M%S\")\n",
        "\n",
        "# File names with timestamp\n",
        "excel_file = f\"data_{timestamp}.xlsx\"\n",
        "csv_file = f\"data_{timestamp}.csv\"\n",
        "\n",
        "# Save DataFrame to Excel\n",
        "df.to_excel(excel_file, index=False)\n",
        "\n",
        "# Save DataFrame to CSV\n",
        "df.to_csv(csv_file, index=False)\n",
        "\n",
        "print(\"Data saved successfully.\")"
      ]
    },
    {
      "cell_type": "code",
      "execution_count": null,
      "metadata": {
        "id": "nqqWYM0EUIhp"
      },
      "outputs": [],
      "source": [
        "# Convert result list to DataFrame\n",
        "df = pd.DataFrame(res, columns=[\"Titre du PAT\", \"Recherche effectuée\", \"Nb de liens obtenus\", \"Liens obtenus\", \"Mots clé recherché\", \"Mot clé trouvé\", \"Keyword Found\"])"
      ]
    }
  ],
  "metadata": {
    "colab": {
      "provenance": [],
      "authorship_tag": "ABX9TyNERwUL8lhZLtZMcDzg5eU/",
      "include_colab_link": true
    },
    "kernelspec": {
      "display_name": "Python 3",
      "name": "python3"
    },
    "language_info": {
      "name": "python"
    }
  },
  "nbformat": 4,
  "nbformat_minor": 0
}